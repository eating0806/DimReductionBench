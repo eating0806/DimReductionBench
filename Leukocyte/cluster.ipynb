{
 "cells": [
  {
   "cell_type": "code",
   "execution_count": 73,
   "metadata": {
    "ExecuteTime": {
     "end_time": "2022-05-30T14:21:25.136125Z",
     "start_time": "2022-05-30T14:21:25.112163Z"
    }
   },
   "outputs": [],
   "source": [
    "import numpy as np\n",
    "import matplotlib.pyplot as plt\n",
    "from sklearn import metrics\n",
    "from sklearn.mixture import GaussianMixture\n",
    "glob = GaussianMixture(n_components=8)"
   ]
  },
  {
   "cell_type": "code",
   "execution_count": 74,
   "metadata": {
    "ExecuteTime": {
     "end_time": "2022-05-30T14:21:26.373663Z",
     "start_time": "2022-05-30T14:21:26.336461Z"
    }
   },
   "outputs": [],
   "source": [
    "f = open(\"data/CRC.Leukocyte.Smart-seq2.Metadata.txt\",\"r\") \n",
    "data = f.read()\n",
    "f.close() "
   ]
  },
  {
   "cell_type": "code",
   "execution_count": 75,
   "metadata": {
    "ExecuteTime": {
     "end_time": "2022-05-30T14:21:28.568056Z",
     "start_time": "2022-05-30T14:21:28.523640Z"
    }
   },
   "outputs": [],
   "source": [
    "data = data.split('\\n')\n",
    "for i in range(len(data)):\n",
    "    data[i] = data[i].split('\\t')\n",
    "# row -- gene, col -- cell"
   ]
  },
  {
   "cell_type": "code",
   "execution_count": 76,
   "metadata": {
    "ExecuteTime": {
     "end_time": "2022-05-30T14:21:29.634094Z",
     "start_time": "2022-05-30T14:21:29.536024Z"
    }
   },
   "outputs": [],
   "source": [
    "data = np.array(data[1:-1])\n",
    "glob_label = data[:,-9]"
   ]
  },
  {
   "cell_type": "code",
   "execution_count": 77,
   "metadata": {
    "ExecuteTime": {
     "end_time": "2022-05-30T14:21:30.399842Z",
     "start_time": "2022-05-30T14:21:30.336481Z"
    }
   },
   "outputs": [
    {
     "data": {
      "text/plain": [
       "array(['B cell', 'CD4 T cell', 'CD8 T cell', 'Epithelial cell',\n",
       "       'Fibroblast', 'ILC', 'Malignant cell', 'Myeloid cell'],\n",
       "      dtype='<U22')"
      ]
     },
     "execution_count": 77,
     "metadata": {},
     "output_type": "execute_result"
    }
   ],
   "source": [
    "np.unique(glob_label)"
   ]
  },
  {
   "cell_type": "code",
   "execution_count": 78,
   "metadata": {
    "ExecuteTime": {
     "end_time": "2022-05-30T14:21:37.473305Z",
     "start_time": "2022-05-30T14:21:37.435327Z"
    }
   },
   "outputs": [],
   "source": [
    "glob_label[glob_label=='B cell'] = 0\n",
    "glob_label[glob_label=='CD4 T cell'] = 1\n",
    "glob_label[glob_label=='CD8 T cell'] = 2\n",
    "glob_label[glob_label=='ILC'] = 3\n",
    "glob_label[glob_label=='Myeloid cell'] = 4\n",
    "glob_label[glob_label=='Epithelial cell'] = 5\n",
    "glob_label[glob_label=='Fibroblast'] = 6\n",
    "glob_label[glob_label=='Malignant cell'] = 7\n",
    "glob_label = glob_label.astype(int) "
   ]
  },
  {
   "cell_type": "code",
   "execution_count": 79,
   "metadata": {
    "ExecuteTime": {
     "end_time": "2022-05-30T14:21:52.364394Z",
     "start_time": "2022-05-30T14:21:52.344249Z"
    }
   },
   "outputs": [],
   "source": [
    "def printd(data,glob):\n",
    "    # NMI\n",
    "    print(round(metrics.normalized_mutual_info_score(glob, glob_label),3))\n",
    "    # ARI\n",
    "    print(round(metrics.adjusted_rand_score(glob, glob_label),3))\n",
    "    # 轮廓系数\n",
    "    print(round(metrics.silhouette_score(data,glob),3))\n",
    "    # VRC\n",
    "    print(round(metrics.calinski_harabasz_score(data,glob)))\n",
    "    # DBI \n",
    "    print(round(metrics.davies_bouldin_score(data,glob),3))\n",
    "#     # plot\n",
    "#     plt.scatter(data[:,0],data[:,1],s=20,alpha=0.9,c=glob_label,cmap=\"Pastel1\")"
   ]
  },
  {
   "cell_type": "code",
   "execution_count": 80,
   "metadata": {
    "ExecuteTime": {
     "end_time": "2022-05-30T14:22:21.831634Z",
     "start_time": "2022-05-30T14:22:19.413773Z"
    }
   },
   "outputs": [
    {
     "name": "stdout",
     "output_type": "stream",
     "text": [
      "0.438\n",
      "0.296\n",
      "0.368\n",
      "10964\n",
      "0.785\n"
     ]
    }
   ],
   "source": [
    "data_pca = np.load('npy/smartseq_pca.npy')\n",
    "pca_glob = glob.fit_predict(data_pca)\n",
    "printd(data_pca,pca_glob)\n",
    "# plt.title(\"10X Genomics PCA\")\n",
    "# plt.savefig(r\"C:\\Users\\Eating\\Desktop\\新建文件夹\\plot\\10X Genomics PCA\")"
   ]
  },
  {
   "cell_type": "code",
   "execution_count": 81,
   "metadata": {
    "ExecuteTime": {
     "end_time": "2022-05-30T14:23:30.590481Z",
     "start_time": "2022-05-30T14:23:28.553679Z"
    }
   },
   "outputs": [
    {
     "name": "stdout",
     "output_type": "stream",
     "text": [
      "0.442\n",
      "0.306\n",
      "0.354\n",
      "10463\n",
      "0.806\n"
     ]
    }
   ],
   "source": [
    "data_ica = np.load('npy/smartseq_ica.npy')\n",
    "ica_glob = glob.fit_predict(data_ica)\n",
    "printd(data_ica,ica_glob)\n",
    "# plt.title(\"10X Genomics ICA\")\n",
    "# plt.savefig(r\"C:\\Users\\Eating\\Desktop\\新建文件夹\\plot\\10X Genomics ICA\")"
   ]
  },
  {
   "cell_type": "code",
   "execution_count": 82,
   "metadata": {
    "ExecuteTime": {
     "end_time": "2022-05-30T14:31:31.998749Z",
     "start_time": "2022-05-30T14:31:29.953236Z"
    }
   },
   "outputs": [
    {
     "name": "stdout",
     "output_type": "stream",
     "text": [
      "0.409\n",
      "0.275\n",
      "0.328\n",
      "8891\n",
      "0.821\n"
     ]
    }
   ],
   "source": [
    "data_poly = np.load('npy/smartseq_poly.npy')\n",
    "poly_glob = glob.fit_predict(data_poly)\n",
    "printd(data_poly,poly_glob)\n",
    "# plt.title(\"10X Genomics POLY\")\n",
    "# plt.savefig(r\"C:\\Users\\Eating\\Desktop\\新建文件夹\\plot\\10X Genomics POLY\")"
   ]
  },
  {
   "cell_type": "code",
   "execution_count": 83,
   "metadata": {
    "ExecuteTime": {
     "end_time": "2022-05-30T14:31:41.525791Z",
     "start_time": "2022-05-30T14:31:39.396518Z"
    }
   },
   "outputs": [
    {
     "name": "stdout",
     "output_type": "stream",
     "text": [
      "0.121\n",
      "0.06\n",
      "0.745\n",
      "11131\n",
      "0.99\n"
     ]
    }
   ],
   "source": [
    "data_rbf = np.load('npy/smartseq_rbf.npy')\n",
    "rbf_glob = glob.fit_predict(data_rbf)\n",
    "printd(data_rbf,rbf_glob)\n",
    "# plt.title(\"10X Genomics RBF\")\n",
    "# plt.savefig(r\"C:\\Users\\Eating\\Desktop\\新建文件夹\\plot\\10X Genomics RBF\")"
   ]
  },
  {
   "cell_type": "code",
   "execution_count": 84,
   "metadata": {
    "ExecuteTime": {
     "end_time": "2022-05-30T15:08:23.654666Z",
     "start_time": "2022-05-30T15:08:21.534885Z"
    }
   },
   "outputs": [
    {
     "name": "stdout",
     "output_type": "stream",
     "text": [
      "0.422\n",
      "0.261\n",
      "0.366\n",
      "8757\n",
      "0.756\n"
     ]
    }
   ],
   "source": [
    "data_tsne = np.load('npy/smartseq_tsne.npy')\n",
    "tsne_glob = glob.fit_predict(data_tsne)\n",
    "printd(data_tsne,tsne_glob)\n",
    "# plt.title(\"10X Genomics TSNE\")\n",
    "# plt.savefig(r\"C:\\Users\\Eating\\Desktop\\新建文件夹\\plot\\10X Genomics TSNE\")"
   ]
  },
  {
   "cell_type": "code",
   "execution_count": 86,
   "metadata": {
    "ExecuteTime": {
     "end_time": "2022-05-30T15:08:50.304622Z",
     "start_time": "2022-05-30T15:08:48.203714Z"
    }
   },
   "outputs": [
    {
     "name": "stdout",
     "output_type": "stream",
     "text": [
      "0.237\n",
      "0.12\n",
      "0.473\n",
      "3807\n",
      "1.524\n"
     ]
    }
   ],
   "source": [
    "data_isomap = np.load('npy/smartseq_isomap.npy')\n",
    "isomap_glob = glob.fit_predict(data_isomap)\n",
    "printd(data_isomap,isomap_glob)\n",
    "# plt.title(\"10X Genomics ISOMAP\")\n",
    "# plt.savefig(r\"C:\\Users\\Eating\\Desktop\\新建文件夹\\plot\\10X Genomics ISOMAP\")"
   ]
  },
  {
   "cell_type": "code",
   "execution_count": 85,
   "metadata": {
    "ExecuteTime": {
     "end_time": "2022-05-30T15:08:48.076387Z",
     "start_time": "2022-05-30T15:08:45.965270Z"
    }
   },
   "outputs": [
    {
     "name": "stdout",
     "output_type": "stream",
     "text": [
      "0.397\n",
      "0.234\n",
      "0.411\n",
      "10347\n",
      "0.741\n"
     ]
    }
   ],
   "source": [
    "data_umap = np.load('npy/smartseq_umap.npy')\n",
    "umap_glob = glob.fit_predict(data_umap)\n",
    "printd(data_umap,umap_glob)\n",
    "# plt.title(\"10X Genomics UMAP\")\n",
    "# plt.savefig(r\"C:\\Users\\Eating\\Desktop\\新建文件夹\\plot\\10X Genomics UMAP\")"
   ]
  },
  {
   "cell_type": "code",
   "execution_count": null,
   "metadata": {},
   "outputs": [],
   "source": []
  }
 ],
 "metadata": {
  "kernelspec": {
   "display_name": "Python 3 (ipykernel)",
   "language": "python",
   "name": "python3"
  },
  "language_info": {
   "codemirror_mode": {
    "name": "ipython",
    "version": 3
   },
   "file_extension": ".py",
   "mimetype": "text/x-python",
   "name": "python",
   "nbconvert_exporter": "python",
   "pygments_lexer": "ipython3",
   "version": "3.10.3"
  }
 },
 "nbformat": 4,
 "nbformat_minor": 4
}
